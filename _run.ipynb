{
 "cells": [
  {
   "cell_type": "markdown",
   "metadata": {},
   "source": [
    "#### Install Pre-requisite Python Modules"
   ]
  },
  {
   "cell_type": "code",
   "execution_count": null,
   "metadata": {},
   "outputs": [],
   "source": [
    "%pip install -r requirements.txt"
   ]
  },
  {
   "cell_type": "markdown",
   "metadata": {},
   "source": [
    "### List Available Modules\n",
    "Run the Cell below to list the names of the available:\n",
    "- Perceptual Hashing Algorithms\n",
    "- Transformers\n",
    "- Similarity Metrics"
   ]
  },
  {
   "cell_type": "code",
   "execution_count": 2,
   "metadata": {},
   "outputs": [
    {
     "name": "stdout",
     "output_type": "stream",
     "text": [
      "Hashes:\n",
      "ColourHash\n",
      "ComputeHashes\n",
      "PHASH\n",
      "PdqHash\n",
      "WaveHash\n",
      "\n",
      "\n",
      "Transformers:\n",
      "Border\n",
      "Flip\n",
      "TransformFromDisk\n",
      "\n",
      "\n",
      "Comparison Metrics:\n",
      "cosine\n",
      "hamming\n",
      "\n",
      "\n"
     ]
    }
   ],
   "source": [
    "from notebooksupport import list_modules\n",
    "\n",
    "nl = '\\n'\n",
    "for module_name, functions in list_modules().items():\n",
    "    print( f\"{module_name}:{nl}{nl.join(functions)}\")\n",
    "    print(nl)"
   ]
  },
  {
   "cell_type": "markdown",
   "metadata": {},
   "source": [
    "#### Set Experimental Conditions"
   ]
  },
  {
   "cell_type": "code",
   "execution_count": null,
   "metadata": {},
   "outputs": [],
   "source": [
    "# Specify path of the original (non-transformed) dataset\n",
    "# e.g. \"F:\\Datasets\\images\"\n",
    "original_path = \"images\"\n",
    "\n",
    "# Specify Perceptual Hashing Algorithms (need to have a class defined in phaser.hashing._algorithms.py)\n",
    "# Format: <name_string>: <clas_name>(<arguments>)\n",
    "algorithms = {\n",
    "        'phash': PHASH(hash_size=8, highfreq_factor=4),\n",
    "        'colour': ColourHash()\n",
    "        }\n",
    "\n",
    "# Specify Transforms functions (need to have a transformer defined in phaser.transformers._transforms.py)\n",
    "# Format: <clas_name>(<arguments>)\n",
    "# Use TransformFromDisk and specify a path as the argument if the transform files already exist on disk (must have same name as originals to match)\n",
    "transformers = [\n",
    "    Border(border_color=(255,0,0), border_width=30, saveToPath=''),\n",
    "    Flip(direction='Horizontal', saveToPath='')\n",
    "    ]\n",
    "\n",
    "# Specify Distance Algorithms (need to have distance metrics defined in phaser.similarities._distances.py)\n",
    "distances = [\n",
    "]"
   ]
  },
  {
   "cell_type": "markdown",
   "metadata": {},
   "source": [
    "#### Process Files\n",
    "\n",
    "- Hash original files with each algorithm\n",
    "- Generate and hash transform files\n",
    "- Output hashes to CSV files compressed to .bz (bzip) files"
   ]
  },
  {
   "cell_type": "code",
   "execution_count": null,
   "metadata": {},
   "outputs": [],
   "source": [
    "from IPython.core.interactiveshell import InteractiveShell\n",
    "InteractiveShell.ast_node_interactivity = \"all\" # type:ignore\n",
    "\n",
    "\n"
   ]
  }
 ],
 "metadata": {
  "kernelspec": {
   "display_name": "my_lib",
   "language": "python",
   "name": "python3"
  },
  "language_info": {
   "codemirror_mode": {
    "name": "ipython",
    "version": 3
   },
   "file_extension": ".py",
   "mimetype": "text/x-python",
   "name": "python",
   "nbconvert_exporter": "python",
   "pygments_lexer": "ipython3",
   "version": "3.9.0"
  },
  "orig_nbformat": 4
 },
 "nbformat": 4,
 "nbformat_minor": 2
}
