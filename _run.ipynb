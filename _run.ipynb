{
 "cells": [
  {
   "cell_type": "markdown",
   "metadata": {},
   "source": [
    "#### Install Pre-requisite Python Modules"
   ]
  },
  {
   "cell_type": "code",
   "execution_count": null,
   "metadata": {},
   "outputs": [],
   "source": [
    "%pip install -r requirements.txt"
   ]
  },
  {
   "cell_type": "markdown",
   "metadata": {},
   "source": [
    "### List Available Modules\n",
    "Run the Cell below to list the names of the available:\n",
    "- Perceptual Hashing Algorithms\n",
    "- Transformers\n",
    "- Similarity Metrics"
   ]
  },
  {
   "cell_type": "code",
   "execution_count": null,
   "metadata": {},
   "outputs": [],
   "source": [
    "from notebooksupport import list_modular_components\n",
    "\n",
    "nl = '\\n'\n",
    "for module_name, functions in list_modular_components().items():\n",
    "    print( f\"{module_name}:{nl}{nl.join(functions)}\")\n",
    "    print(nl)"
   ]
  },
  {
   "cell_type": "markdown",
   "metadata": {},
   "source": [
    "#### Set Experimental Conditions\n",
    "- Specify path to original (unmodified) images. Transforms will be applied to these, and these serve as the ground truth for intra-distance analysis.\n",
    "- Specify output directory\n",
    "- Specify dictionary of Perceptual Hashes to use (with parameters)\n",
    "    - Format: ```<name_string>: <class_name>(<arguments>)```\n",
    "    - Must be imported in this cell, base algorithms defined in ```phaser.hashing._algorithms.py```.\n",
    "    - Class should extend ```phaser.hashing._algorithms.PerceptalHash```\n",
    "- Specify Transforms to use.\n",
    "    - Format: ```<clas_name>(<arguments>)```\n",
    "    - Must be imported in this cell, base algorithms defined in ```phaser.transformers._transforms.py```.\n",
    "    - Use ```TransformFromDisk``` and specify a path as the argument if the transform files already exist on disk (must have same name as originals to match)\n",
    "- Specify Distance metrics to use.\n",
    "    - Format: Dictionary with ```<Human Readable Name>:<metric>``` (metric should be str or Callable, see below)\n",
    "    - If the distance metric is part of ```scipy.spatial.distance```, specify the name as a ```str```\n",
    "    - If a custom distance metric is provided in ```phaser.similarities._distances.py```, import and pass the ```function reference```"
   ]
  },
  {
   "cell_type": "code",
   "execution_count": null,
   "metadata": {},
   "outputs": [],
   "source": [
    "# Specify path of the original (non-transformed) dataset\n",
    "# e.g. \"F:\\Datasets\\images\"\n",
    "original_path = r\"images\"\n",
    "\n",
    "# Specify output directory\n",
    "output_directory = r\"./demo_outputs\"\n",
    "\n",
    "# Specify Perceptual Hashing Algorithms\n",
    "\n",
    "from phaser.hashing import PHASH, ColourHash\n",
    "algorithms = {\n",
    "        'phash': PHASH(hash_size=8, highfreq_factor=4),\n",
    "        'colour': ColourHash()\n",
    "        }\n",
    "\n",
    "# Specify Transforms functions \n",
    "from phaser.transformers import Border, Flip\n",
    "transformers = [\n",
    "    Border(border_color=(255,0,0), border_width=30, saveToPath=''),\n",
    "    Flip(direction='Horizontal', saveToPath='')\n",
    "    ]\n",
    "\n",
    "from phaser.similarities import test_synthetic# Specify Distance Algorithms\n",
    "distance_metrics = {\n",
    "    \"Hamming\": \"hamming\",\n",
    "    \"Cosine\": \"cosine\",\n",
    "    \"Test_Synthetic\": test_synthetic\n",
    "}\n",
    "\n",
    "# Test that metrics have been entered correctly\n",
    "from phaser.similarities import validate_metrics\n",
    "if validate_metrics(distance_metrics):\n",
    "    print(\"Metrics look valid!\")"
   ]
  },
  {
   "cell_type": "markdown",
   "metadata": {},
   "source": [
    "#### Process Files\n",
    "\n",
    "- Hash original files with each algorithm\n",
    "- Generate and hash transform files\n",
    "- Output hashes to CSV files compressed to .bz (bzip) files"
   ]
  },
  {
   "cell_type": "code",
   "execution_count": null,
   "metadata": {},
   "outputs": [],
   "source": [
    "from notebooksupport import do_hashing\n",
    "\n",
    "# Pass the settings through to a helper function which does the hashing and applies transforms\n",
    "do_hashing(originals_path=original_path, algorithms=algorithms, transformers=transformers, output_directory=output_directory, progress_report=True)"
   ]
  },
  {
   "cell_type": "markdown",
   "metadata": {},
   "source": [
    "#### Calculate Similarity Scores\n",
    "There are two types of score calculated here:\n",
    "- Intra-score: Where the original images are compared to their modifications. This is a 1-to-1 mapping (N * #hashes * #transforms * #comparison_metrics)\n",
    "    - This is used to determine how robust the hash and comparison metric are to each transform class.\n",
    "    - Ideally original images should have a distance of 0 (simlartiy of 1) to their transforms.\n",
    "- Inter-score: Where images within a given tranform (or originals) are compared to themselves for each given comparison metric. Inter-scores are sampled to match the size of the intra-score class. (Calculating all pairwise combinations generates many more samples, (N*N-1/2)\n",
    "    - This gives us a baseline behaviour, with the assumption that the images should *not* match.\n",
    "    - On aggregate, random unrelated images should be about 0.5 different, as this makes the best use of the metric space.\n",
    "\n"
   ]
  },
  {
   "cell_type": "code",
   "execution_count": null,
   "metadata": {},
   "outputs": [],
   "source": [
    "from notebooksupport import calculate_distances\n",
    "\n",
    "# Load hashes and labels from the output generated by the previous step and calculate inter- and intra-distances.\n",
    "calculate_distances(hash_directory=output_directory, distance_metrics=distance_metrics, progress_report=True)"
   ]
  },
  {
   "cell_type": "code",
   "execution_count": null,
   "metadata": {},
   "outputs": [],
   "source": [
    "## Delete me or move me to a test file later - just a demo of the synthetic metric.\n",
    "\n",
    "import numpy as np\n",
    "import matplotlib.pyplot as plt\n",
    "from phaser.similarities import test_synthetic\n",
    "\n",
    "def pdist_test():\n",
    "    nums = []\n",
    "    for n in range(10000):\n",
    "        nums.append(test_synthetic())\n",
    "\n",
    "    plt.xlim(0,1)\n",
    "    plt.hist(nums, bins=50)\n",
    "    plt.show()\n",
    "\n",
    "def cdist_test():\n",
    "    nums = []\n",
    "    for n in range(10000):\n",
    "        nums.append(test_synthetic())\n",
    "\n",
    "    plt.xlim(0,1)\n",
    "    plt.hist(nums, bins=50)\n",
    "    plt.show()\n",
    "\n",
    "\n",
    "pdist_test()\n",
    "cdist_test()"
   ]
  }
 ],
 "metadata": {
  "kernelspec": {
   "display_name": "my_lib",
   "language": "python",
   "name": "python3"
  },
  "language_info": {
   "codemirror_mode": {
    "name": "ipython",
    "version": 3
   },
   "file_extension": ".py",
   "mimetype": "text/x-python",
   "name": "python",
   "nbconvert_exporter": "python",
   "pygments_lexer": "ipython3",
   "version": "3.11.5"
  },
  "orig_nbformat": 4
 },
 "nbformat": 4,
 "nbformat_minor": 2
}
