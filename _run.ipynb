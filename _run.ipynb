{
 "cells": [
  {
   "cell_type": "markdown",
   "metadata": {},
   "source": [
    "#### Install Pre-requisite Python Modules"
   ]
  },
  {
   "cell_type": "code",
   "execution_count": null,
   "metadata": {},
   "outputs": [],
   "source": [
    "%pip install -r requirements.txt"
   ]
  },
  {
   "cell_type": "markdown",
   "metadata": {},
   "source": [
    "### List Available Modules\n",
    "Run the Cell below to list the names of the available:\n",
    "- Perceptual Hashing Algorithms\n",
    "- Transformers\n",
    "- Similarity Metrics"
   ]
  },
  {
   "cell_type": "code",
   "execution_count": null,
   "metadata": {},
   "outputs": [],
   "source": [
    "from notebooksupport import list_modular_components\n",
    "\n",
    "nl = '\\n'\n",
    "for module_name, functions in list_modular_components().items():\n",
    "    print( f\"{module_name}:{nl}{nl.join(functions)}\")\n",
    "    print(nl)"
   ]
  },
  {
   "cell_type": "markdown",
   "metadata": {},
   "source": [
    "#### Set Experimental Conditions"
   ]
  },
  {
   "cell_type": "code",
   "execution_count": 1,
   "metadata": {},
   "outputs": [],
   "source": [
    "# Specify path of the original (non-transformed) dataset\n",
    "# e.g. \"F:\\Datasets\\images\"\n",
    "original_path = \"images\"\n",
    "\n",
    "# Specify output directory\n",
    "output_directory = \"demo_outputs/\"\n",
    "\n",
    "# Specify Perceptual Hashing Algorithms (need to have a class defined in phaser.hashing._algorithms.py)\n",
    "# Format: <name_string>: <clas_name>(<arguments>)\n",
    "from phaser.hashing._algorithms import PHASH, ColourHash\n",
    "algorithms = {\n",
    "        'phash': PHASH(hash_size=8, highfreq_factor=4),\n",
    "        'colour': ColourHash()\n",
    "        }\n",
    "\n",
    "# Specify Transforms functions (need to have a transformer defined in phaser.transformers._transforms.py)\n",
    "# Format: <clas_name>(<arguments>)\n",
    "# Use TransformFromDisk and specify a path as the argument if the transform files already exist on disk (must have same name as originals to match)\n",
    "from phaser.transformers._transforms import Border, Flip\n",
    "transformers = [\n",
    "    Border(border_color=(255,0,0), border_width=30, saveToPath=''),\n",
    "    Flip(direction='Horizontal', saveToPath='')\n",
    "    ]\n",
    "\n",
    "# Specify Distance Algorithms (need to have distance metrics defined in phaser.similarities._distances.py)\n",
    "distances = [\n",
    "    \"hamming\",\n",
    "    \"cosine\"\n",
    "]"
   ]
  },
  {
   "cell_type": "markdown",
   "metadata": {},
   "source": [
    "#### Process Files\n",
    "\n",
    "- Hash original files with each algorithm\n",
    "- Generate and hash transform files\n",
    "- Output hashes to CSV files compressed to .bz (bzip) files"
   ]
  },
  {
   "cell_type": "code",
   "execution_count": 2,
   "metadata": {},
   "outputs": [
    {
     "name": "stdout",
     "output_type": "stream",
     "text": [
      "Found 20 images in c:\\Users\\smck\\Documents\\GitHub\\aaby_test_lib\\test_lib\\images.\n",
      "Creating output directory at c:\\Users\\smck\\Documents\\GitHub\\aaby_test_lib\\test_lib\\demo_outputs...\n",
      "Doing hashing...\n"
     ]
    },
    {
     "name": "stderr",
     "output_type": "stream",
     "text": [
      "Files: 100%|██████████| 20/20 [00:02<00:00,  8.59it/s]\n"
     ]
    },
    {
     "name": "stdout",
     "output_type": "stream",
     "text": [
      "Saving hashes.csv and labels for filenames (f), algorithms (a) and transforms (t) to bzip files..\n"
     ]
    }
   ],
   "source": [
    "from notebooksupport import do_hashing\n",
    "\n",
    "# Pass the settings through to a helper function which does the hashing and applies transforms\n",
    "do_hashing(originals_path=original_path, algorithms=algorithms, transformers=transformers, output_directory=output_directory)"
   ]
  },
  {
   "cell_type": "markdown",
   "metadata": {},
   "source": [
    "#### Calculate Similarity Scores\n",
    "There are two types of score calculated here:\n",
    "- Intra-score: Where the original images are compared to their modifications. This is a 1-to-1 mapping (N * #hashes * #transforms * #comparison_metrics)\n",
    "    - This is used to determine how robust the hash and comparison metric are to each transform class.\n",
    "    - Ideally original images should have a distance of 0 (simlartiy of 1) to their transforms.\n",
    "- Inter-score: Where images within a given tranform (or originals) are compared to themselves for each given comparison metric. Inter-scores are sampled to match the size of the intra-score class. (Calculating all pairwise combinations generates many more samples, (N*N-1/2)\n",
    "    - This gives us a baseline behaviour, with the assumption that the images should *not* match.\n",
    "    - On aggregate, random unrelated images should be about 0.5 different, as this makes the best use of the metric space.\n",
    "\n"
   ]
  },
  {
   "cell_type": "code",
   "execution_count": 4,
   "metadata": {},
   "outputs": [
    {
     "name": "stdout",
     "output_type": "stream",
     "text": [
      "Dataframe loaded from c:\\Users\\smck\\Documents\\GitHub\\aaby_test_lib\\test_lib\\demo_outputs\\hashes.csv.bz2\n",
      "ALGORITHMS=array(['colour', 'phash'], dtype='<U6')\n",
      "TRANSFORMS=array(['Border_bw30_bc255.0.0', 'Flip_Horizontal', 'orig'], dtype=object)\n",
      "Saving metric encoder to le_m.\n",
      "Computing Intra-distances...\n"
     ]
    },
    {
     "name": "stderr",
     "output_type": "stream",
     "text": [
      "Hash: 100%|██████████| 2/2 [00:00<00:00, 83.84it/s]\n"
     ]
    },
    {
     "name": "stdout",
     "output_type": "stream",
     "text": [
      "Number of total intra-image comparisons = 80\n",
      "Computing Inter-distance with 7 per image.\n"
     ]
    },
    {
     "name": "stderr",
     "output_type": "stream",
     "text": [
      "Hash: 100%|██████████| 2/2 [00:00<00:00, 110.54it/s]"
     ]
    },
    {
     "name": "stdout",
     "output_type": "stream",
     "text": [
      "Number of pairwise comparisons = 21\n",
      "Number of inter distances = 84\n",
      "Saving distance scores to c:\\Users\\smck\\Documents\\GitHub\\aaby_test_lib\\test_lib\\demo_outputs\\distances.csv.bz2.\n"
     ]
    },
    {
     "name": "stderr",
     "output_type": "stream",
     "text": [
      "\n"
     ]
    }
   ],
   "source": [
    "from notebooksupport import calcualte_distances\n",
    "\n",
    "# Load hashes and labels from the output generated by the previous step and calculate inter- and intra-distances.\n",
    "calcualte_distances(hash_directory=output_directory, progress_report=True)"
   ]
  }
 ],
 "metadata": {
  "kernelspec": {
   "display_name": "my_lib",
   "language": "python",
   "name": "python3"
  },
  "language_info": {
   "codemirror_mode": {
    "name": "ipython",
    "version": 3
   },
   "file_extension": ".py",
   "mimetype": "text/x-python",
   "name": "python",
   "nbconvert_exporter": "python",
   "pygments_lexer": "ipython3",
   "version": "3.10.10"
  },
  "orig_nbformat": 4
 },
 "nbformat": 4,
 "nbformat_minor": 2
}
