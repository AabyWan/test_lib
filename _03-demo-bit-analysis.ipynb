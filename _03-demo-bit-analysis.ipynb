{
 "cells": [
  {
   "cell_type": "code",
   "execution_count": 1,
   "metadata": {},
   "outputs": [],
   "source": [
    "import pandas as pd\n",
    "import numpy as np\n",
    "import matplotlib.pyplot as plt\n",
    "import seaborn as sns\n",
    "import os \n",
    "\n",
    "from IPython.core.interactiveshell import InteractiveShell\n",
    "InteractiveShell.ast_node_interactivity = \"all\" #type:ignore\n",
    "plt.style.use('dark_background') # dark_background \"default\n",
    "sns.set_context('paper')\n",
    "\n",
    "%reload_ext autoreload\n",
    "%autoreload 2\n",
    "\n",
    "script_dir = f\"C:/Users/aabywan/Downloads/Flickr_8k\"\n",
    "# Change to scrip_dir if required.\n",
    "os.chdir(script_dir)"
   ]
  },
  {
   "cell_type": "code",
   "execution_count": 2,
   "metadata": {},
   "outputs": [],
   "source": [
    "from sklearn.preprocessing import LabelEncoder\n",
    "from phaser.utils import load_labelencoders, bin2bool\n",
    "from phaser.evaluation import MetricMaker, pred_at_threshold\n",
    "from phaser.plotting import cm_ax\n",
    "from phaser.evaluation import BitAnalyzer\n",
    "\n",
    "label_encoders = load_labelencoders([\"le_f\",\"le_a\",\"le_t\",\"le_m\"], path=\"./demo_outputs/\")\n",
    "le_f, le_a, le_t, le_m = label_encoders.values()\n",
    "\n",
    "TRANSFORMS = le_t.classes_\n",
    "METRICS    = le_m.classes_\n",
    "ALGORITHMS = le_a.classes_\n",
    "FIGSIZE    = (5, 3)\n",
    "\n",
    "df_d = pd.read_csv(\"./demo_outputs/distances.csv.bz2\")\n",
    "df_h = pd.read_csv(\"./demo_outputs/hashes.csv.bz2\")\n",
    "\n",
    "# convert the strings to arrays\n",
    "for _a in ALGORITHMS:\n",
    "    df_h[_a] = df_h[_a].apply(bin2bool)"
   ]
  },
  {
   "cell_type": "markdown",
   "metadata": {},
   "source": [
    "Decide which triplet combination to analyse"
   ]
  },
  {
   "cell_type": "code",
   "execution_count": 3,
   "metadata": {},
   "outputs": [
    {
     "name": "stdout",
     "output_type": "stream",
     "text": [
      "Algorithms available\n",
      "[['0' 'colour']\n",
      " ['1' 'pdq']\n",
      " ['2' 'phash']]\n",
      "\n",
      "Transformations available\n",
      "[[0 'Border_bw20_bc255.0.0']\n",
      " [1 'Border_bw30_bc255.0.0']\n",
      " [2 'Flip_Horizontal']\n",
      " [3 'orig']]\n",
      "\n",
      "Metrics available\n",
      "[['0' 'Cosine']\n",
      " ['1' 'Hamming']]\n",
      "\n"
     ]
    }
   ],
   "source": [
    "print(f\"Algorithms available\\n{np.column_stack([np.arange(0,len(ALGORITHMS),1), ALGORITHMS])}\\n\")\n",
    "print(f\"Transformations available\\n{np.column_stack([np.arange(0,len(TRANSFORMS),1), TRANSFORMS])}\\n\")\n",
    "print(f\"Metrics available\\n{np.column_stack([np.arange(0,len(METRICS),1), METRICS])}\\n\")"
   ]
  },
  {
   "cell_type": "code",
   "execution_count": 4,
   "metadata": {},
   "outputs": [
    {
     "name": "stdout",
     "output_type": "stream",
     "text": [
      "Number of triplets to analyse: 18\n"
     ]
    }
   ],
   "source": [
    "# Create a label encoder for the class labels\n",
    "le_c = LabelEncoder()\n",
    "le_c.classes_ = np.array(['Inter (0)','Intra (1)'])\n",
    "\n",
    "all_the_bits = {}\n",
    "evaluation_results = []\n",
    "\n",
    "triplets = np.array(np.meshgrid(\n",
    "    ALGORITHMS, \n",
    "    TRANSFORMS[:-1], \n",
    "    METRICS)).T.reshape(-1,3)\n",
    "\n",
    "print(f\"Number of triplets to analyse: {len(triplets)}\")"
   ]
  },
  {
   "cell_type": "code",
   "execution_count": 106,
   "metadata": {},
   "outputs": [],
   "source": [
    "#from phaser.evaluation import BitAnalyzer\n",
    "BA = BitAnalyzer(df_h, le_t)\n",
    "\n",
    "metrics = []\n",
    "bitfreq = {}\n",
    "\n",
    "for triplet in triplets:\n",
    "    a_s, t_s, m_s = triplet\n",
    "\n",
    "    # from string to integer label encoding\n",
    "    a_l = le_a.transform(np.array(a_s).ravel())[0]\n",
    "    t_l = le_t.transform(np.array(t_s).ravel())[0]\n",
    "    m_l = le_m.transform(np.array(m_s).ravel())[0]\n",
    "\n",
    "    # subset the triplet data\n",
    "    subset = df_d[\n",
    "        (df_d['algo'] == a_l) & \n",
    "        (df_d['metric'] == m_l)].copy()\n",
    "    \n",
    "    y_true = subset['class']\n",
    "    y_sims = subset[t_s]\n",
    "\n",
    "    mm = MetricMaker(y_true, y_sims, weighted=False)\n",
    "    tn, fp, fn, tp = mm.get_cm(\n",
    "        threshold=mm.eer_thresh, \n",
    "        normalize='none', \n",
    "        breakdown=True)\n",
    "\n",
    "    _m = [a_s,t_s,m_s,mm.auc,mm.eer_score,mm.eer_thresh,tn, fp, fn, tp]\n",
    "    _b = BA.fit(subset, mm.y_pred, t_l, a_s)\n",
    "\n",
    "    metrics.append(_m)\n",
    "    bitfreq[f\"{a_s}_{t_s}_{m_s}\"] = _b\n",
    "    #bitfreq.append(_b)\n",
    "\n",
    "metrics = np.row_stack(metrics)\n",
    "\n",
    "cols = ['Algorithm', 'Transform', 'Metric', 'AUC', 'EER', 'Threshold', 'TN','FP','FN','TP']\n",
    "metrics = pd.DataFrame(metrics, columns=cols)\n",
    "metrics[metrics.columns[3:]] = metrics[metrics.columns[3:]].astype(float)"
   ]
  },
  {
   "cell_type": "code",
   "execution_count": 204,
   "metadata": {},
   "outputs": [
    {
     "name": "stderr",
     "output_type": "stream",
     "text": [
      "Triplet: 100%|██████████| 18/18 [00:00<00:00, 11243.11it/s]\n"
     ]
    }
   ],
   "source": [
    "from phaser.evaluation import ComputeMetrics\n",
    "cm = ComputeMetrics(le_f, le_a, le_t, le_m, df_d, df_h, analyse_bits=True, n_jobs=-1, progress_bar=True)\n",
    "metrics, bitfreq = cm.fit(triplets=triplets, weighted=False)"
   ]
  },
  {
   "cell_type": "code",
   "execution_count": 205,
   "metadata": {},
   "outputs": [
    {
     "data": {
      "image/png": "[encoded data removed]",
      "text/plain": [
       "<Figure size 500x300 with 1 Axes>"
      ]
     },
     "metadata": {},
     "output_type": "display_data"
    }
   ],
   "source": [
    "#results.replace([np.inf, -np.inf], 0, inplace=True)\n",
    "dist_metric='Hamming'\n",
    "fig, ax = plt.subplots(1,1,figsize=FIGSIZE, constrained_layout=True)\n",
    "_ = sns.barplot(\n",
    "    data=metrics[metrics['Metric'] == dist_metric], #type:ignore\n",
    "    x='Algorithm', \n",
    "    y='AUC', \n",
    "    hue='Transform',\n",
    "    ax=ax)\n",
    "_ = ax.grid(axis='y', alpha=.25)\n",
    "_ = ax.legend(loc='lower right')\n",
    "_ = ax.set(\n",
    "    title=f\"Performance for '{dist_metric}' distance $without$ bit-weighting\",\n",
    "    yticks=np.arange(0,1.01,0.1))\n"
   ]
  },
  {
   "cell_type": "code",
   "execution_count": 206,
   "metadata": {},
   "outputs": [
    {
     "data": {
      "image/png": "[encoded data removed]",
      "text/plain": [
       "<Figure size 500x300 with 2 Axes>"
      ]
     },
     "metadata": {},
     "output_type": "display_data"
    }
   ],
   "source": [
    "fig, ax = plt.subplots(1,1,figsize=FIGSIZE, constrained_layout=True)\n",
    "_ = sns.heatmap(bitfreq['colour_Border_bw20_bc255.0.0_Cosine'].T, cmap='Greys', ax=ax)"
   ]
  },
  {
   "cell_type": "markdown",
   "metadata": {},
   "source": [
    "# Bit-wise analysis\n",
    "\n",
    "1. Intra-image bits should remain the same\n",
    "2. Inter-image bits should change\n",
    "\n",
    "In both cases, the positive outcome is defined as the ```True``` case.\n",
    "\n",
    "```TP``` = Intra (1) correctly classified as Intra (1)   \n",
    "```FP``` = Inter (0) falsely classified as Intra (1)   \n",
    "```TN``` = Inter (0) correctly classfied as Inter (0)     \n",
    "```FN``` = Intra (1) falsely classified as Inter (0)"
   ]
  },
  {
   "cell_type": "markdown",
   "metadata": {},
   "source": [
    "# All the bits\n",
    "Aggregate weights accross different transforms since it is unreal to expect knowing which modifications may have happened to a target image.\n",
    "\n",
    "Thus, we want weights to work holisticly"
   ]
  },
  {
   "cell_type": "code",
   "execution_count": 207,
   "metadata": {},
   "outputs": [],
   "source": [
    "mean_weights = {}\n",
    "\n",
    "for a in ALGORITHMS:\n",
    "    #if a == 'phash':\n",
    "        for m in METRICS:\n",
    "            #if m == 'Hamming':\n",
    "                pair = f\"{a}_{m}\"\n",
    "                _weights = []\n",
    "\n",
    "                for t in TRANSFORMS:\n",
    "                    if t == 'orig' : continue\n",
    "                    bits = bitfreq[f\"{a}_{t}_{m}\"]\n",
    "                    means = bits.T.mean().values \n",
    "                    _weights.append(means)\n",
    "                mean_weights[pair] = np.mean(_weights, axis=0)"
   ]
  },
  {
   "cell_type": "markdown",
   "metadata": {},
   "source": [
    "Apply bit-weighting"
   ]
  },
  {
   "cell_type": "code",
   "execution_count": 208,
   "metadata": {},
   "outputs": [],
   "source": [
    "from scipy.spatial.distance import hamming\n",
    "from scipy.spatial.distance import cdist\n",
    "from tqdm import tqdm"
   ]
  },
  {
   "cell_type": "code",
   "execution_count": 209,
   "metadata": {},
   "outputs": [
    {
     "name": "stderr",
     "output_type": "stream",
     "text": [
      "Hash: 100%|██████████| 3/3 [00:09<00:00,  3.13s/it]"
     ]
    },
    {
     "name": "stdout",
     "output_type": "stream",
     "text": [
      "Number of total intra-image comparisons = 48546\n"
     ]
    },
    {
     "name": "stderr",
     "output_type": "stream",
     "text": [
      "\n"
     ]
    }
   ],
   "source": [
    "class IntraDistance:\n",
    "    def __init__(\n",
    "        self, \n",
    "        le_t, \n",
    "        le_m, \n",
    "        le_a, \n",
    "        dist_w=None, # would expect a dicitonary\n",
    "        distance_metrics={}, \n",
    "        set_class=0, \n",
    "        progress_bar=False):\n",
    "        # \n",
    "        self.le_t = le_t\n",
    "        self.le_m = le_m\n",
    "        self.le_a = le_a\n",
    "        self.dist_w = dist_w\n",
    "        self.distance_metrics = distance_metrics\n",
    "        self.set_class = set_class\n",
    "        self.progress_bar = progress_bar\n",
    "\n",
    "        #validate_metrics(self.distance_metrics)\n",
    "\n",
    "    def intradistance(self, x, algorithm, metric, weights):\n",
    "        # store the first hash and reshape into 2d array as required by cdist func.\n",
    "        xa = x[algorithm].iloc[0].reshape(1, -1)\n",
    "\n",
    "        # row stack the other hashes\n",
    "        xb = x.iloc[1:][algorithm].values\n",
    "        xb = np.row_stack(xb)\n",
    "\n",
    "        # Get the vlaue corresponding to the metric key.\n",
    "        # This is either a string representing a name from scipy.spatial.distances\n",
    "        # or a callable function implementing another metric.\n",
    "        metric_value = self.distance_metrics[metric]\n",
    "        \n",
    "        return cdist(xa, xb, metric=metric_value, w=weights)\n",
    "\n",
    "    def fit(self, data):\n",
    "        self.files_ = data[\"filename\"].unique()\n",
    "        self.n_files_ = len(self.files_)\n",
    "\n",
    "        distances = []\n",
    "\n",
    "        for a in tqdm(self.le_a.classes_, disable=not self.progress_bar, desc=\"Hash\"):\n",
    "            for m in self.le_m.classes_:\n",
    "                \n",
    "                if self.dist_w:\n",
    "                    w = self.dist_w[f\"{a}_{m}\"]\n",
    "                else: w=None\n",
    "                \n",
    "                # Compute the distances for each filename\n",
    "                grp_dists = data.groupby([\"filename\"]).apply(\n",
    "                    self.intradistance, \n",
    "                    algorithm=a, \n",
    "                    metric=m,\n",
    "                    weights=w\n",
    "                )\n",
    "\n",
    "                # Stack each distance into rows\n",
    "                grp_dists = np.row_stack(grp_dists)\n",
    "\n",
    "                # Get the integer labels for algo and metric\n",
    "                a_label = self.le_a.transform(a.ravel())[0]\n",
    "                m_label = self.le_m.transform(m.ravel())\n",
    "\n",
    "                grp_dists = np.column_stack(\n",
    "                    [\n",
    "                        self.files_,  # fileA\n",
    "                        self.files_,  # fileB (same in intra!)\n",
    "                        np.repeat(a_label, self.n_files_),\n",
    "                        np.repeat(m_label, self.n_files_),\n",
    "                        np.repeat(self.set_class, self.n_files_),\n",
    "                        grp_dists,\n",
    "                    ]\n",
    "                )\n",
    "                distances.append(grp_dists)\n",
    "\n",
    "        distances = np.concatenate(distances)\n",
    "\n",
    "        # Create the dataframe output\n",
    "        cols = [\"fileA\", \"fileB\", \"algo\", \"metric\", \"class\", *self.le_t.classes_[:-1]]\n",
    "        distances = pd.DataFrame(distances, columns=cols)\n",
    "        distances[\"orig\"] = 0\n",
    "\n",
    "        # set int columns accordingly\n",
    "        int_cols = cols[:5]\n",
    "        distances[int_cols] = distances[int_cols].astype(int)\n",
    "\n",
    "        # Convert distances to similarities\n",
    "        sim_cols = distances.columns[5:]\n",
    "        distances[sim_cols] = 1 - distances[sim_cols]\n",
    "\n",
    "        return distances\n",
    "    \n",
    "distance_metrics = {\"Hamming\": \"hamming\", \"Cosine\": \"cosine\"}\n",
    "\n",
    "intra = IntraDistance(\n",
    "    le_t=le_t,\n",
    "    le_m=le_m,\n",
    "    le_a=le_a,\n",
    "    dist_w=mean_weights,\n",
    "    distance_metrics=distance_metrics,\n",
    "    set_class=1,\n",
    "    progress_bar=True)\n",
    "\n",
    "intra_df = intra.fit(df_h)\n",
    "print(f\"Number of total intra-image comparisons = {len(intra_df)}\")"
   ]
  },
  {
   "cell_type": "code",
   "execution_count": 210,
   "metadata": {},
   "outputs": [],
   "source": [
    "from itertools import combinations\n",
    "from scipy.spatial.distance import pdist"
   ]
  },
  {
   "cell_type": "code",
   "execution_count": 211,
   "metadata": {},
   "outputs": [
    {
     "name": "stderr",
     "output_type": "stream",
     "text": [
      "Hash: 100%|██████████| 3/3 [00:04<00:00,  1.38s/it]\n"
     ]
    }
   ],
   "source": [
    "class InterDistance:\n",
    "    def __init__(\n",
    "        self,\n",
    "        le_t,\n",
    "        le_m,\n",
    "        le_a,\n",
    "        dist_w=None,\n",
    "        distance_metrics={},\n",
    "        set_class=1,\n",
    "        n_samples=100,\n",
    "        random_state=42,\n",
    "        progress_bar=False,\n",
    "    ):\n",
    "        self.le_t = le_t\n",
    "        self.le_m = le_m\n",
    "        self.le_a = le_a\n",
    "        self.dist_w = dist_w\n",
    "        self.distance_metrics = distance_metrics\n",
    "        self.set_class = set_class\n",
    "        self.n_samples = n_samples\n",
    "        self.random_state = random_state\n",
    "        self.progress_bar = progress_bar\n",
    "\n",
    "        #validate_metrics(self.distance_metrics)\n",
    "\n",
    "    def interdistance(self, x, algorithm, metric, weights):\n",
    "        # get hashes into a 2d array\n",
    "        hashes = np.row_stack(x[algorithm])\n",
    "\n",
    "        # Get the vlaue corresponding to the metric key.\n",
    "        # This is either a string representing a name from scipy.spatial.distances\n",
    "        # or a callable function implementing another metric.\n",
    "        metric_value = self.distance_metrics[metric]\n",
    "\n",
    "        # return pairwise distances of all combinations\n",
    "        return pdist(hashes, metric_value, w=weights)\n",
    "\n",
    "    def fit(self, data):\n",
    "        # Get the label used to encode 'orig'\n",
    "        orig_label = self.le_t.transform(np.array([\"orig\"]).ravel())[0]\n",
    "\n",
    "        # Assert sufficient data to sample from.\n",
    "        assert len(data[data[\"transformation\"] == orig_label]) >= self.n_samples\n",
    "\n",
    "        # Pick the samples\n",
    "        self.samples_ = (\n",
    "            data[data[\"transformation\"] == orig_label]\n",
    "            .sample(self.n_samples, random_state=self.random_state)[\"filename\"]\n",
    "            .values\n",
    "        )\n",
    "\n",
    "        # Subset the data\n",
    "        subset = data[data[\"filename\"].isin(self.samples_)]\n",
    "\n",
    "        # Create unique pairs matching the output of scipy.spatial.distances.pdist\n",
    "        self.pairs_ = np.array(\n",
    "            [c for c in combinations(subset[\"filename\"].unique(), 2)]\n",
    "        )\n",
    "\n",
    "        # Count the number of unique pairs\n",
    "        self.n_pairs_ = len(self.pairs_)\n",
    "\n",
    "        # List to hold distances while looping over algorithms and metrics\n",
    "        distances = []\n",
    "\n",
    "        # Do the math using Pandas groupby\n",
    "        for a in tqdm(self.le_a.classes_, disable=not self.progress_bar, desc=\"Hash\"):\n",
    "            for m in self.le_m.classes_:\n",
    "\n",
    "                if self.dist_w:\n",
    "                    w = self.dist_w[f\"{a}_{m}\"]\n",
    "                else: w=None\n",
    "                \n",
    "                # Compute distances for each group of transformations\n",
    "                grp_dists = subset.groupby([\"transformation\"]).apply(\n",
    "                    self.interdistance,  # type:ignore\n",
    "                    algorithm=a,\n",
    "                    metric=m,\n",
    "                    weights=w\n",
    "                )\n",
    "\n",
    "                # Transpose to create rows of observations\n",
    "                X_dists = np.transpose(np.row_stack(grp_dists.values))\n",
    "\n",
    "                # Get the integer labels for algo and metric\n",
    "                a_label = self.le_a.transform(a.ravel())[0]\n",
    "                m_label = self.le_m.transform(m.ravel())\n",
    "\n",
    "                # Add columns with pairs of the compared observations\n",
    "                X_dists = np.column_stack(\n",
    "                    [\n",
    "                        self.pairs_,\n",
    "                        np.repeat(a_label, self.n_pairs_),\n",
    "                        np.repeat(m_label, self.n_pairs_),\n",
    "                        np.repeat(self.set_class, self.n_pairs_),\n",
    "                        X_dists,\n",
    "                    ]\n",
    "                )\n",
    "\n",
    "                # Add the results to the distances array\n",
    "                distances.append(X_dists)\n",
    "\n",
    "        # Flatten the distances array\n",
    "        distances = np.concatenate(distances)\n",
    "\n",
    "        # Create the dataframe output\n",
    "        cols = [\"fileA\", \"fileB\", \"algo\", \"metric\", \"class\", *self.le_t.classes_]\n",
    "        distances = pd.DataFrame(distances, columns=cols)\n",
    "\n",
    "        # Set datatype to int on all non-distance columns\n",
    "        int_cols = cols[:5]\n",
    "        distances[int_cols] = distances[int_cols].astype(int)\n",
    "\n",
    "        # Convert distances to similarities\n",
    "        sim_cols = distances.columns[5:]\n",
    "        distances[sim_cols] = 1 - distances[sim_cols]\n",
    "\n",
    "        return distances\n",
    "\n",
    "from phaser.similarities import find_inter_samplesize\n",
    "# Compute the inter distances using subsampling\n",
    "n_samples = find_inter_samplesize(len(df_h[\"filename\"].unique() * 1))\n",
    "\n",
    "inter = InterDistance(\n",
    "    le_t,\n",
    "    le_m,\n",
    "    le_a,\n",
    "    dist_w=mean_weights,\n",
    "    distance_metrics=distance_metrics,\n",
    "    set_class=0,\n",
    "    n_samples=n_samples,\n",
    "    progress_bar=True,\n",
    ")\n",
    "inter_df = inter.fit(df_h)"
   ]
  },
  {
   "cell_type": "code",
   "execution_count": 212,
   "metadata": {},
   "outputs": [],
   "source": [
    "df_d_w = pd.concat([intra_df, inter_df])"
   ]
  },
  {
   "cell_type": "markdown",
   "metadata": {},
   "source": [
    "## Eval"
   ]
  },
  {
   "cell_type": "code",
   "execution_count": 213,
   "metadata": {},
   "outputs": [],
   "source": [
    "#from phaser.evaluation import BitAnalyzer\n",
    "#BA = BitAnalyzer(df_h, le_t)\n",
    "\n",
    "metrics_w = []\n",
    "#bitfreq_w = {}\n",
    "\n",
    "for triplet in triplets:\n",
    "    a_s, t_s, m_s = triplet\n",
    "\n",
    "    # from string to integer label encoding\n",
    "    a_l = le_a.transform(np.array(a_s).ravel())[0]\n",
    "    t_l = le_t.transform(np.array(t_s).ravel())[0]\n",
    "    m_l = le_m.transform(np.array(m_s).ravel())[0]\n",
    "\n",
    "    # subset the triplet data\n",
    "    subset = df_d_w[\n",
    "        (df_d_w['algo'] == a_l) & \n",
    "        (df_d_w['metric'] == m_l)].copy()\n",
    "    \n",
    "    y_true = subset['class']\n",
    "    y_sims = subset[t_s]\n",
    "\n",
    "    mm = MetricMaker(y_true, y_sims, weighted=False)\n",
    "    tn, fp, fn, tp = mm.get_cm(\n",
    "        threshold=mm.eer_thresh, \n",
    "        normalize='none', \n",
    "        breakdown=True)\n",
    "\n",
    "    _m = [a_s,t_s,m_s,mm.auc,mm.eer_score,mm.eer_thresh,tn, fp, fn, tp]\n",
    "    #_b = BA.fit(subset, mm.y_pred, t_l, a_s)\n",
    "\n",
    "    metrics_w.append(_m)\n",
    "    #bitfreq_w[f\"{a_s}_{t_s}_{m_s}\"] = _b\n",
    "    #bitfreq.append(_b)\n",
    "\n",
    "metrics_w = np.row_stack(metrics_w)\n",
    "\n",
    "cols = ['Algorithm', 'Transform', 'Metric', 'AUC', 'EER', 'Threshold', 'TN','FP','FN','TP']\n",
    "metrics_w = pd.DataFrame(metrics_w, columns=cols)\n",
    "metrics_w[metrics_w.columns[3:]] = metrics_w[metrics_w.columns[3:]].astype(float)"
   ]
  },
  {
   "cell_type": "code",
   "execution_count": 203,
   "metadata": {},
   "outputs": [
    {
     "data": {
      "image/png": "[encoded data removed]",
      "text/plain": [
       "<Figure size 800x300 with 2 Axes>"
      ]
     },
     "metadata": {},
     "output_type": "display_data"
    }
   ],
   "source": [
    "#results.replace([np.inf, -np.inf], 0, inplace=True)\n",
    "dist_metric='Cosine'\n",
    "dist_metric='Hamming'\n",
    "fig, ax = plt.subplots(1,2,figsize=(8,3), constrained_layout=True, sharex=True, sharey=True)\n",
    "_ = sns.barplot(\n",
    "    data=metrics[metrics['Metric'] == dist_metric], #type:ignore\n",
    "    x='Algorithm', \n",
    "    y='AUC', \n",
    "    hue='Transform',\n",
    "    ax=ax[0])\n",
    "\n",
    "_ = sns.barplot(\n",
    "    data=metrics_w[metrics_w['Metric'] == dist_metric], #type:ignore\n",
    "    x='Algorithm', \n",
    "    y='AUC', \n",
    "    hue='Transform',\n",
    "    ax=ax[1])\n",
    "\n",
    "#_ = ax.grid(axis='y', alpha=.25)\n",
    "_ = ax[0].legend(loc='lower right')\n",
    "_ = ax[1].legend(loc='lower right')\n",
    "_ = ax[0].set(title=f\"'{dist_metric}' $without$ bit-weighting\")\n",
    "_ = ax[1].set(title=f\"'{dist_metric}' $with$ bit-weighting\")"
   ]
  }
 ],
 "metadata": {
  "kernelspec": {
   "display_name": "my_lib",
   "language": "python",
   "name": "python3"
  },
  "language_info": {
   "codemirror_mode": {
    "name": "ipython",
    "version": 3
   },
   "file_extension": ".py",
   "mimetype": "text/x-python",
   "name": "python",
   "nbconvert_exporter": "python",
   "pygments_lexer": "ipython3",
   "version": "3.10.13"
  },
  "orig_nbformat": 4
 },
 "nbformat": 4,
 "nbformat_minor": 2
}
