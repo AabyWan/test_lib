{
 "cells": [
  {
   "cell_type": "code",
   "execution_count": 1,
   "metadata": {},
   "outputs": [],
   "source": [
    "import os\n",
    "import ipywidgets as widgets\n",
    "import pandas as pd\n",
    "import numpy as np\n",
    "from sklearn.preprocessing import LabelEncoder\n",
    "from phaser.utils import load_labelencoders\n",
    "\n",
    "\n",
    "output_directory = r\"./demo_outputs\"\n",
    "\n",
    "# Load labels\n",
    "label_encoders = load_labelencoders([\"le_f\", \"le_a\", \"le_t\", \"le_m\"], path=output_directory)\n",
    "le_f, le_a, le_t, le_m = label_encoders.values()\n",
    "TRANSFORMS = le_t.classes_\n",
    "METRICS = le_m.classes_\n",
    "ALGORITHMS = le_a.classes_\n",
    "\n",
    "# Read dataframe\n",
    "df = pd.read_csv(os.path.join(output_directory, \"distances.csv.bz2\"))\n",
    "\n",
    "# Split into intra and inter for stats\n",
    "intra_df = df[df[\"class\"] == 1]\n",
    "inter_df = df[df[\"class\"] == 0]\n",
    "\n",
    "# Create a label encoder for the class labels\n",
    "le_c = LabelEncoder()\n",
    "le_c.classes_ = np.array([\"Inter (0)\", \"Intra (1)\"])\n"
   ]
  },
  {
   "cell_type": "code",
   "execution_count": 2,
   "metadata": {},
   "outputs": [
    {
     "data": {
      "application/vnd.jupyter.widget-view+json": {
       "model_id": "95019ee6c02b4fd9b1f76b815dccf259",
       "version_major": 2,
       "version_minor": 0
      },
      "text/plain": [
       "interactive(children=(Dropdown(description='Transform', options=('Border_bw30_bc255.255.255', 'Crop_fixed[10, …"
      ]
     },
     "metadata": {},
     "output_type": "display_data"
    },
    {
     "name": "stdout",
     "output_type": "stream",
     "text": [
      "['PDQ' 'Wavehash' 'pHash'] ['Cosine' 'Hamming'] ['Border_bw30_bc255.255.255' 'Crop_fixed[10, 10, 10, 10]'\n",
      " 'Flip_Horizontal' 'Rescale_fixed(96, 96)' 'Watermark' 'orig']\n"
     ]
    },
    {
     "data": {
      "application/vnd.jupyter.widget-view+json": {
       "model_id": "e3ca00a68da94181a9e73b5dbe318c76",
       "version_major": 2,
       "version_minor": 0
      },
      "text/plain": [
       "interactive(children=(Dropdown(description='Transform', options=('Border_bw30_bc255.255.255', 'Crop_fixed[10, …"
      ]
     },
     "metadata": {},
     "output_type": "display_data"
    },
    {
     "data": {
      "image/png": "[encoded data removed]",
      "text/plain": [
       "<Figure size 500x500 with 6 Axes>"
      ]
     },
     "metadata": {},
     "output_type": "display_data"
    }
   ],
   "source": [
    "from phaser.evaluation import macro_stats\n",
    "from phaser.plotting import histogram_fig, kde_distributions_ax\n",
    "import matplotlib.pyplot as plt\n",
    "from ipywidgets import interact, interactive, fixed, interact_manual, VBox\n",
    "import warnings\n",
    "warnings.simplefilter(action='ignore', category=FutureWarning)\n",
    "\n",
    "\n",
    "# macro_tables = []\n",
    "# for transform in TRANSFORMS[:-1]:\n",
    "#     stats = macro_stats(\n",
    "#         data=intra_df, le_a=le_a, le_m=le_m, transform=transform, style=False\n",
    "#     )\n",
    "#     macro_tables.append(str(stats))\n",
    "\n",
    "\n",
    "\n",
    "def plot_image(transform, mode):\n",
    "    data = df\n",
    "    if transform != 'Select':\n",
    "        if mode == \"inter\":\n",
    "            fig = histogram_fig(inter_df, le_a, le_m, transform, interactive=True)\n",
    "        elif mode == \"intra\":\n",
    "            fig = histogram_fig(intra_df, le_a, le_m, transform, interactive=True)\n",
    "\n",
    "#define widgets\n",
    "tselect = widgets.Dropdown(\n",
    "        options=TRANSFORMS[:-1],\n",
    "        description='Transform'\n",
    "    )\n",
    "mselect = widgets.Dropdown(\n",
    "        options=METRICS,\n",
    "        description='Metric'\n",
    "    )\n",
    "aselect = widgets.Dropdown(\n",
    "        options=ALGORITHMS,\n",
    "        description='Algorithm'\n",
    "    )\n",
    "modeselect = widgets.Dropdown(\n",
    "        options=[\"inter\", \"intra\"],\n",
    "        description='Comparison Mode'\n",
    "    )\n",
    "\n",
    "# #interact function in isolation\n",
    "h = interactive(plot_image, transform=tselect, mode=modeselect)\n",
    "display(h)\n",
    "\n",
    "#print(df)\n",
    "\n",
    "### KDE multi\n",
    "def kde_plot_multi(transform):\n",
    "    if transform != 'Select':\n",
    "\n",
    "        #t_label = le_a.transform(np.array(transform).ravel()\n",
    "        n_cols = len(METRICS)\n",
    "        n_rows = len(ALGORITHMS)\n",
    "        # Subset data\n",
    "        fig, axes = plt.subplots(ncols=n_cols, nrows=n_rows, figsize=(5,5), constrained_layout=True, \n",
    "                                 sharex=True, sharey=True)\n",
    "                                 \n",
    "        for col_i, metric in enumerate(METRICS):\n",
    "            for row_i, algo in enumerate(ALGORITHMS):\n",
    "                    # Transform strings to labels\n",
    "                    m_label = le_m.transform(np.array(metric).ravel())\n",
    "                    a_label = le_a.transform(np.array(algo).ravel())\n",
    "\n",
    "                    # Subset data and get the distances for the chosen transformation\n",
    "                    _X = df.query(f\"algo=={a_label} and metric == {m_label}\")\n",
    "                    axes[col_i, row_i] = kde_distributions_ax(_X, transform, le_c, fill=True, title=f\"{algo} - {metric} - {transform}\", ax=axes\n",
    ")\n",
    "\n",
    "### KDE Single\n",
    "def kde_plot(metric, algorithm, transform):\n",
    "    if transform != 'Select':\n",
    "\n",
    "\n",
    "        m_label = le_m.transform(np.array(metric).ravel())\n",
    "        a_label = le_a.transform(np.array(algorithm).ravel())\n",
    "        #t_label = le_a.transform(np.array(transform).ravel())\n",
    "\n",
    "\n",
    "        # Subset data\n",
    "        data = df.query(f\"algo == {a_label} and metric == {m_label}\").copy()\n",
    "        fig, ax = plt.subplots(ncols=1, nrows=1, figsize=(4,3), constrained_layout=True)\n",
    "        ax = kde_distributions_ax(data, transform, le_c, fill=True, title=f\"{algorithm} - {metric} - {transform}\", ax=ax\n",
    ")        \n",
    "\n",
    "print(ALGORITHMS, METRICS,TRANSFORMS)\n",
    "\n",
    "#kde_plot(metric=\"Hamming\", algorithm=\"pHash\", transform=\"Flip_Horizontal\")\n",
    "\n",
    "#k = interactive(kde_plot, metric=mselect, algorithm=aselect, transform=tselect)\n",
    "\n",
    "k = interactive(kde_plot_multi, transform=tselect)\n",
    "display(k)\n"
   ]
  }
 ],
 "metadata": {
  "kernelspec": {
   "display_name": "perceptual-framework",
   "language": "python",
   "name": "python3"
  },
  "language_info": {
   "codemirror_mode": {
    "name": "ipython",
    "version": 3
   },
   "file_extension": ".py",
   "mimetype": "text/x-python",
   "name": "python",
   "nbconvert_exporter": "python",
   "pygments_lexer": "ipython3",
   "version": "3.11.5"
  },
  "orig_nbformat": 4
 },
 "nbformat": 4,
 "nbformat_minor": 2
}
